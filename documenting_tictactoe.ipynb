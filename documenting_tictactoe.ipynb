{
 "cells": [
  {
   "cell_type": "markdown",
   "metadata": {},
   "source": [
    "# **Tic Tac Toe, Xs & Os, Three in a Row!**"
   ]
  },
  {
   "cell_type": "code",
   "execution_count": 1,
   "metadata": {},
   "outputs": [],
   "source": [
    "# required library imports for TicTacToe()\n",
    "import numpy as np"
   ]
  },
  {
   "cell_type": "markdown",
   "metadata": {},
   "source": [
    "#### **City University of Seattle**\n",
    "\n",
    "School of Technology & Computing  \n",
    "CS 506: Programming for Computing  \n",
    "<br>\n",
    "**An Independent Project Narration by Samantha Hipple**"
   ]
  },
  {
   "cell_type": "markdown",
   "metadata": {},
   "source": [
    "##### See the [README.md file](README.md) for this directory to review our Independent Project's provided directions.  \n",
    "\n",
    "In summary, we are to design a Tic-Tac-Toe game with the following requirements:  \n",
    "+ first player is randomly assigned\n",
    "+ player vs player game mode (required)\n",
    "+ player vs AI game mode (optional +20 points)\n",
    "+ displays updated gameboard between turns\n",
    "+ placement is based on pre-assigned positional numbers (1-9)\n",
    "+ checks for winner and prints when winner exists "
   ]
  },
  {
   "cell_type": "code",
   "execution_count": 2,
   "metadata": {},
   "outputs": [],
   "source": [
    "# Tic Tac Toe, Three in a Row!\n",
    "class TicTacToe:\n",
    "    \"\"\"Play a TicTacToe game!\"\"\"\n",
    "    # GamePlay Menu Options upon Initialization \n",
    "    def __init__(self):\n",
    "        \"\"\"Display game menu options and pass game mode selection from player(s).\"\"\"\n",
    "        print(\"--------------------------------------\")\n",
    "        print(\"Welcome to Tic Tac Toe! Four in a Row!\\n\")\n",
    "        print(\"Please Select a GamePlay Option:\\n\")\n",
    "        print(\"1\\tPlayer VS Player\")\n",
    "        print(\"2\\tPlayer VS Random AI\")\n",
    "        print(\"3\\tPlayer VS Genius AI\")\n",
    "        print(\"--------------------------------------\")\n",
    "        # User Game Mode Selection\n",
    "        selection = int(input(\"\\nGamePlay Selection: \"))\n",
    "        self.game_mode(selection)\n",
    "\n",
    "# uncomment to view initialization menu, entering selection will lead to error\n",
    "# TicTacToe()"
   ]
  },
  {
   "cell_type": "markdown",
   "metadata": {},
   "source": [
    "##### **TicTacToe()** output:  \n",
    "\n",
    "**Figure 1**  \n",
    "*Game Menu*\n",
    "![GAME MENU]()\n",
    "**Figure 2**  \n",
    "*Input Selection*\n",
    "![INPUT FIELD](input1.png)\n",
    "**Figure 3**  \n",
    "*Error Upon Input*\n",
    "![ERROR MSG](error1.png)"
   ]
  },
  {
   "cell_type": "markdown",
   "metadata": {},
   "source": [
    "The object created from calling our **TicTacToe** class is our Tic Tac Toe game!  \n",
    "<br>\n",
    "Our Tic Tac Toe game offers three game modes!  \n",
    "<br>\n",
    "**1.** Player vs Player  \n",
    "**2.** Player vs Random AI  \n",
    "**3.** Player vs Genius AI  \n",
    "<br>\n",
    "Our gameplay is initilized when we enter a selection of **1**, **2**, or **3**!   "
   ]
  },
  {
   "cell_type": "code",
   "execution_count": 3,
   "metadata": {},
   "outputs": [],
   "source": [
    "# first, a copy of what we have so far\n",
    "# ----------------------------------------------------------------------\n",
    "# Tic Tac Toe, Three in a Row!\n",
    "class TicTacToe:\n",
    "    \"\"\"Play a TicTacToe game!\"\"\"\n",
    "    # GamePlay Menu Options upon Initialization \n",
    "    def __init__(self):\n",
    "        \"\"\"Display game menu options and pass game mode selection from player(s).\"\"\"\n",
    "        print(\"--------------------------------------\")\n",
    "        print(\"Welcome to Tic Tac Toe! Four in a Row!\\n\")\n",
    "        print(\"Please Select a GamePlay Option:\\n\")\n",
    "        print(\"1\\t\\tPlayer VS Player\")\n",
    "        print(\"2\\t\\tPlayer VS Random AI\")\n",
    "        print(\"3\\t\\tPlayer VS Genius AI\")\n",
    "        print(\"--------------------------------------\")\n",
    "        # User Game Mode Selection\n",
    "        selection = int(input(\"\\nGamePlay Selection: \"))\n",
    "        self.game_mode(selection)\n",
    "# ----------------------------------------------------------------------\n",
    "# then, we define a few methods designed to start the selected gamemode\n",
    "\n",
    "# this method determines selection validity   \n",
    "    def game_mode(self, selection):\n",
    "        if selection > 0 and selection < 4:\n",
    "            self.get_new_board()\n",
    "        else:\n",
    "            prompt = \"Please enter 1 2 or 3 to select a gamemode option: \"\n",
    "            selection = int(input(prompt))\n",
    "            return selection\n",
    "# this method generates an empty gameboard\n",
    "    def new_board(self):\n",
    "        gameboard = []\n",
    "        for i in range(9):\n",
    "            gameboard.append(i + 1)\n",
    "        new_gameboard = np.reshape(gameboard, (3, 3))\n",
    "        return new_gameboard\n",
    "# this method display a new game board\n",
    "    def get_new_board(self):\n",
    "        new_gameboard = self.new_board()\n",
    "        print(new_gameboard)\n",
    "\n",
    "# uncomment the line below to enter a selection (1-3) and view a new gameboard\n",
    "# TicTacToe() # anything other than 1, 2 or 3 will produce an error."
   ]
  }
 ],
 "metadata": {
  "interpreter": {
   "hash": "e29222f3f42e0213662c0bfcd36abfcec82c8ee47d735e7e8c247aae9a20a8c0"
  },
  "kernelspec": {
   "display_name": "Python 3.10.4 64-bit (windows store)",
   "language": "python",
   "name": "python3"
  },
  "language_info": {
   "codemirror_mode": {
    "name": "ipython",
    "version": 3
   },
   "file_extension": ".py",
   "mimetype": "text/x-python",
   "name": "python",
   "nbconvert_exporter": "python",
   "pygments_lexer": "ipython3",
   "version": "3.10.4"
  },
  "orig_nbformat": 4
 },
 "nbformat": 4,
 "nbformat_minor": 2
}
