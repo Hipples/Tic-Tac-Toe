{
 "cells": [
  {
   "cell_type": "markdown",
   "metadata": {},
   "source": [
    "# **Tic Tac Toe, Xs & Os, Three in a Row!**"
   ]
  },
  {
   "cell_type": "code",
   "execution_count": 2,
   "metadata": {},
   "outputs": [],
   "source": [
    "# required library imports for TicTacToe()\n",
    "import numpy as np\n",
    "import random"
   ]
  },
  {
   "cell_type": "markdown",
   "metadata": {},
   "source": [
    "#### **City University of Seattle**\n",
    "\n",
    "School of Technology & Computing  \n",
    "CS 506: Programming for Computing  \n",
    "<br>\n",
    "**An Independent Project Narration by Samantha Hipple**"
   ]
  },
  {
   "cell_type": "markdown",
   "metadata": {},
   "source": [
    "##### See the [README.md file](README.md) for this directory to review our Independent Project's provided directions.  \n",
    "\n",
    "In summary, we are to design a Tic-Tac-Toe game with the following requirements:  \n",
    "+ first player is randomly assigned\n",
    "+ player vs player game mode (required)\n",
    "+ player vs AI game mode (optional +20 points)\n",
    "+ displays updated gameboard between turns\n",
    "+ placement is based on pre-assigned positional numbers (1-9)\n",
    "+ checks for winner and prints when winner exists \n",
    "\n",
    "This notebook will demonstrate the thought process behind and tests cases for each method as we build our game. "
   ]
  },
  {
   "cell_type": "markdown",
   "metadata": {},
   "source": [
    "#### Initializing class **TicTacToe**"
   ]
  },
  {
   "cell_type": "code",
   "execution_count": 3,
   "metadata": {},
   "outputs": [],
   "source": [
    "# Tic Tac Toe, Three in a Row!\n",
    "class TicTacToe:\n",
    "    \"\"\"Play a TicTacToe game!\"\"\"\n",
    "    # GamePlay Menu Options upon Initialization \n",
    "    def __init__(self):\n",
    "        \"\"\"Display game menu options and pass game mode selection from player(s).\"\"\"\n",
    "        print(\"--------------------------------------\")\n",
    "        print(\"Welcome to Tic Tac Toe! Four in a Row!\\n\")\n",
    "        print(\"Please Select a GamePlay Option:\\n\")\n",
    "        print(\"1\\tPlayer VS Player\")\n",
    "        print(\"2\\tPlayer VS Random AI\")\n",
    "        print(\"3\\tPlayer VS Genius AI\")\n",
    "        print(\"--------------------------------------\")\n",
    "        # User Game Mode Selection\n",
    "        selection = int(input(\"\\nGamePlay Selection: \"))\n",
    "        self.game_mode(selection)\n",
    "\n",
    "# uncomment to view initialization menu, entering selection will lead to error\n",
    "# TicTacToe()"
   ]
  },
  {
   "cell_type": "markdown",
   "metadata": {},
   "source": [
    "##### **TicTacToe()** output:  \n",
    "\n",
    "Our output should include the display of our gamemode menu options, an input for the user to enter their choice of gamemode, and an error upon input entry due to an undefined next step. "
   ]
  },
  {
   "cell_type": "markdown",
   "metadata": {},
   "source": [
    "**Figure 1:**  *Game Menu*  \n",
    "![GAME MENU](output1.png)  \n",
    "\n",
    "<br>\n",
    "\n",
    "**Figure 2:**  *Input Selection*  \n",
    "![INPUT FIELD](input1.png)  \n",
    "\n",
    "<br>\n",
    "\n",
    "**Figure 3:**  *Error Upon Input*  \n",
    "![ERROR MSG](error1.png)  "
   ]
  },
  {
   "cell_type": "markdown",
   "metadata": {},
   "source": [
    "The object created from calling our **TicTacToe** class is our Tic Tac Toe game!  \n",
    "<br>\n",
    "Our Tic Tac Toe game offers three game modes!  \n",
    "<br>\n",
    "**1.** Player vs Player  \n",
    "**2.** Player vs Random AI  \n",
    "**3.** Player vs Genius AI  \n",
    "<br>\n",
    "Our gameplay is initilized when we enter a selection of **1**, **2**, or **3**!   "
   ]
  },
  {
   "cell_type": "code",
   "execution_count": 4,
   "metadata": {},
   "outputs": [],
   "source": [
    "# first, a copy of what we have so far\n",
    "# ----------------------------------------------------------------------\n",
    "# Tic Tac Toe, Three in a Row!\n",
    "class TicTacToe:\n",
    "    \"\"\"Play a TicTacToe game!\"\"\"\n",
    "    # GamePlay Menu Options upon Initialization \n",
    "    def __init__(self):\n",
    "        \"\"\"Display game menu options and pass game mode selection from player(s).\"\"\"\n",
    "        print(\"--------------------------------------\")\n",
    "        print(\"Welcome to Tic Tac Toe! Four in a Row!\\n\")\n",
    "        print(\"Please Select a GamePlay Option:\\n\")\n",
    "        print(\"1\\tPlayer VS Player\")\n",
    "        print(\"2\\tPlayer VS Random AI\")\n",
    "        print(\"3\\tPlayer VS Genius AI\")\n",
    "        print(\"--------------------------------------\")\n",
    "        # User Game Mode Selection\n",
    "        selection = int(input(\"\\nGamePlay Selection: \"))\n",
    "        self.game_mode(selection)\n",
    "# ----------------------------------------------------------------------\n",
    "# then, we define a few methods designed to start the selected gamemode\n",
    "\n",
    "# this method simply determines selection validity at this point in time\n",
    "    def game_mode(self, selection):\n",
    "        if selection > 0 and selection < 4:\n",
    "            self.get_new_board()\n",
    "        else:\n",
    "            prompt = \"Please enter 1 2 or 3 to select a gamemode option: \"\n",
    "            selection = int(input(prompt))\n",
    "            return selection\n",
    "# this method generates an empty gameboard\n",
    "    def new_board(self):\n",
    "        gameboard = []\n",
    "        for i in range(9):\n",
    "            gameboard.append(i + 1)\n",
    "        new_gameboard = np.reshape(gameboard, (3, 3))\n",
    "        return new_gameboard\n",
    "# this method display a new game board\n",
    "    def get_new_board(self):\n",
    "        new_gameboard = self.new_board()\n",
    "        print(new_gameboard)\n",
    "\n",
    "# uncomment the line below to enter a selection (1-3) and view a new gameboard\n",
    "# TicTacToe() # anything other than 1, 2 or 3 will produce an error."
   ]
  },
  {
   "cell_type": "markdown",
   "metadata": {},
   "source": [
    "#### **TicTacToe()** output:\n",
    "\n",
    "After entering a selection of 1, 2, or 3 - an empty gameboard should be displayed. "
   ]
  },
  {
   "cell_type": "markdown",
   "metadata": {},
   "source": [
    "**Figure 4:**  *Valid Selection Displays New Gameboard*  \n",
    "![NEW GAMEBOARD](output2.png)"
   ]
  },
  {
   "cell_type": "markdown",
   "metadata": {},
   "source": [
    "words about the above code and what follows. . ."
   ]
  },
  {
   "cell_type": "code",
   "execution_count": 5,
   "metadata": {},
   "outputs": [],
   "source": [
    "# first player should be randomly assigned\n",
    "def coin_flip(self):\n",
    "    # initialize player markers\n",
    "    player, opponent = \"X\", \"O\"\n",
    "    # flip the coin\n",
    "    result = random.randint(0, 1)\n",
    "    if result == 0:\n",
    "        return player\n",
    "    elif result == 1: \n",
    "        return opponent # assign first player\n",
    "\n",
    "# # test script:\n",
    "# marker = coin_flip(TicTacToe)\n",
    "# marker # outputs 'X' or 'O' randomly"
   ]
  },
  {
   "cell_type": "code",
   "execution_count": 8,
   "metadata": {},
   "outputs": [
    {
     "ename": "AttributeError",
     "evalue": "module 'TicTacToe' has no attribute 'game_mode'",
     "output_type": "error",
     "traceback": [
      "\u001b[1;31m---------------------------------------------------------------------------\u001b[0m",
      "\u001b[1;31mAttributeError\u001b[0m                            Traceback (most recent call last)",
      "\u001b[1;32mc:\\Users\\Saman\\Desktop\\CS 506 (programming for computing)\\06. Independent Project\\Tic-Tac-Toe-AI\\documenting_tictactoe.ipynb Cell 15'\u001b[0m in \u001b[0;36m<cell line: 25>\u001b[1;34m()\u001b[0m\n\u001b[0;32m     <a href='vscode-notebook-cell:/c%3A/Users/Saman/Desktop/CS%20506%20%28programming%20for%20computing%29/06.%20Independent%20Project/Tic-Tac-Toe-AI/documenting_tictactoe.ipynb#ch0000014?line=21'>22</a>\u001b[0m             selection \u001b[39m=\u001b[39m \u001b[39mint\u001b[39m(\u001b[39minput\u001b[39m(prompt))\n\u001b[0;32m     <a href='vscode-notebook-cell:/c%3A/Users/Saman/Desktop/CS%20506%20%28programming%20for%20computing%29/06.%20Independent%20Project/Tic-Tac-Toe-AI/documenting_tictactoe.ipynb#ch0000014?line=22'>23</a>\u001b[0m             \u001b[39mreturn\u001b[39;00m selection  \n\u001b[1;32m---> <a href='vscode-notebook-cell:/c%3A/Users/Saman/Desktop/CS%20506%20%28programming%20for%20computing%29/06.%20Independent%20Project/Tic-Tac-Toe-AI/documenting_tictactoe.ipynb#ch0000014?line=24'>25</a>\u001b[0m TicTacToe\u001b[39m.\u001b[39;49mgame_mode()\n",
      "\u001b[1;31mAttributeError\u001b[0m: module 'TicTacToe' has no attribute 'game_mode'"
     ]
    }
   ],
   "source": [
    "import TicTacToe\n",
    "\n",
    "def game_mode(self, selection):\n",
    "    while selection != 'q':\n",
    "        if selection > 0 and selection < 4:\n",
    "            self.get_new_board()\n",
    "            match selection:\n",
    "                case 1: \n",
    "                    print(\"Game Mode: Player vs Player!\")\n",
    "                    selection = 'q'\n",
    "                    return selection\n",
    "                case 2:\n",
    "                    print(\"Game Mode: Player vs Random AI\")\n",
    "                    selection = 'q'\n",
    "                    return selection\n",
    "                case 3:\n",
    "                    print(\"Game Mode: Player vs Genius AI!\")\n",
    "                    selection = 'q'\n",
    "                    return selection\n",
    "        else:\n",
    "            prompt = \"Please enter 1 2 or 3 to select a gamemode option: \"\n",
    "            selection = int(input(prompt))\n",
    "            return selection  \n",
    "\n",
    "TicTacToe.game_mode()"
   ]
  }
 ],
 "metadata": {
  "interpreter": {
   "hash": "e29222f3f42e0213662c0bfcd36abfcec82c8ee47d735e7e8c247aae9a20a8c0"
  },
  "kernelspec": {
   "display_name": "Python 3.10.4 64-bit (windows store)",
   "language": "python",
   "name": "python3"
  },
  "language_info": {
   "codemirror_mode": {
    "name": "ipython",
    "version": 3
   },
   "file_extension": ".py",
   "mimetype": "text/x-python",
   "name": "python",
   "nbconvert_exporter": "python",
   "pygments_lexer": "ipython3",
   "version": "3.10.4"
  },
  "orig_nbformat": 4
 },
 "nbformat": 4,
 "nbformat_minor": 2
}
