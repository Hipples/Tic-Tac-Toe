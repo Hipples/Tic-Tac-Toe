{
 "cells": [
  {
   "cell_type": "markdown",
   "metadata": {},
   "source": [
    "# **Tic Tac Toe, Xs & Os, Three in a Row!**\n",
    "Release version: 1.0"
   ]
  },
  {
   "cell_type": "markdown",
   "metadata": {},
   "source": [
    "#### **City University of Seattle**\n",
    "\n",
    "School of Technology & Computing  \n",
    "CS 506: Programming for Computing  \n",
    "<br>\n",
    "**An Independent Project Narration by Samantha Hipple**\n",
    "\n",
    "Release Date: May 20, 2022"
   ]
  },
  {
   "cell_type": "markdown",
   "metadata": {},
   "source": [
    "##### See the [README.md file](README.md) for this directory to review our Independent Project's provided directions.  \n",
    "\n",
    "In summary, we are to design a Tic-Tac-Toe game with the following requirements:  \n",
    "+ first player is randomly assigned\n",
    "+ player vs player game mode (required)\n",
    "+ player vs AI game mode (optional +20 points)\n",
    "+ displays updated gameboard between turns\n",
    "+ placement is based on pre-assigned positional numbers (1-9)\n",
    "+ checks for winner and prints when winner exists \n",
    "\n",
    "This notebook will provide a walkthrough of the steps taken as we build our game. This first release of our game only has one gamemode - player vs player. Future releases will include a Random AI opponent as well as a Genius AI opponent providing users with three game mode options from which to choose. Additionally, this program is designed to be played via the Command Line Interface. Future releases may include a GUI instead. "
   ]
  },
  {
   "cell_type": "markdown",
   "metadata": {},
   "source": [
    "**Step 1:** Import necessary libaries"
   ]
  },
  {
   "cell_type": "code",
   "execution_count": 16,
   "metadata": {},
   "outputs": [],
   "source": [
    "import numpy as np\n",
    "import random"
   ]
  },
  {
   "cell_type": "markdown",
   "metadata": {},
   "source": [
    "**Step 2:** Initialize TicTacToe class"
   ]
  },
  {
   "cell_type": "code",
   "execution_count": 17,
   "metadata": {},
   "outputs": [],
   "source": [
    "# Tic Tac Toe, Three in a Row!\n",
    "class TicTacToe:\n",
    "    \"\"\"Play a game of Tic Tac Toe!\"\"\"\n",
    "    # initialize the class with our gameboard defined as an empty list\n",
    "    def __init__(self):\n",
    "        self.board = []"
   ]
  },
  {
   "cell_type": "markdown",
   "metadata": {},
   "source": [
    "**Step 3:** Design a method to create the gameboard"
   ]
  },
  {
   "cell_type": "code",
   "execution_count": 18,
   "metadata": {},
   "outputs": [],
   "source": [
    "    # method to create the gameboard\n",
    "    def create_board(self):\n",
    "        for i in np.arange(1, 10).astype(str):\n",
    "            self.board.append(i)\n",
    "        self.board = np.reshape(self.board, (3, 3))"
   ]
  },
  {
   "cell_type": "markdown",
   "metadata": {},
   "source": [
    "**Step 4:** Design a method that displays the gameboard in its current state"
   ]
  },
  {
   "cell_type": "code",
   "execution_count": 19,
   "metadata": {},
   "outputs": [],
   "source": [
    "    # method to display the gameboard\n",
    "    def display_board(self):\n",
    "        print('-------------------------------')\n",
    "        for row in self.board:\n",
    "            print('|         |         |         | ')\n",
    "            print('|', end = '')\n",
    "            for item in row:\n",
    "                print(f'    {item}    |', end = '')\n",
    "            print()\n",
    "            print('|         |         |         |')\n",
    "            print('-------------------------------')"
   ]
  },
  {
   "cell_type": "markdown",
   "metadata": {},
   "source": [
    "**Step 5:** Design a method to determine if the gameboard has no more available moves"
   ]
  },
  {
   "cell_type": "code",
   "execution_count": 20,
   "metadata": {},
   "outputs": [],
   "source": [
    "    # method to determine is gameboard is full\n",
    "    def is_board_full(self):\n",
    "        for row in self.board:\n",
    "            for item in row:\n",
    "                if (item) in ['1', '2', '3', '4', '5', '6', '7', '8', '9']:\n",
    "                    return False\n",
    "        return True"
   ]
  },
  {
   "cell_type": "markdown",
   "metadata": {},
   "source": [
    "**Step 6:** Design a method that enables the players to choose their marker (X or O)"
   ]
  },
  {
   "cell_type": "code",
   "execution_count": 21,
   "metadata": {},
   "outputs": [],
   "source": [
    "    # method to enable the player to choose to be Xs or Os \n",
    "    def choose_marker(self):\n",
    "        marker = ' '\n",
    "        while (marker != 'X' and marker != 'O'):\n",
    "            marker = input(\"Do you want to be Xs or Os? \").upper()\n",
    "        if marker == 'X':\n",
    "            return ['X', 'O']\n",
    "        else:\n",
    "            return ['O', 'X']"
   ]
  },
  {
   "cell_type": "markdown",
   "metadata": {},
   "source": [
    "**Step 7:** Design a method to assign the chosen player markers"
   ]
  },
  {
   "cell_type": "code",
   "execution_count": 22,
   "metadata": {},
   "outputs": [],
   "source": [
    "    # method to assign player markers\n",
    "    def assign_markers(self):\n",
    "        self.player, self.opponent = self.choose_marker()\n",
    "        return self.player, self.opponent"
   ]
  },
  {
   "cell_type": "markdown",
   "metadata": {},
   "source": [
    "**Step 8:** Design a method to randomly assign which player goes first"
   ]
  },
  {
   "cell_type": "code",
   "execution_count": 23,
   "metadata": {},
   "outputs": [],
   "source": [
    "    # method to randomly decide who goes first\n",
    "    def coin_flip(self):\n",
    "        return random.randint(0, 1)"
   ]
  },
  {
   "cell_type": "markdown",
   "metadata": {},
   "source": [
    "**Step 9:** Design a method to retrieve the desired gameboard array coordinates by value input"
   ]
  },
  {
   "cell_type": "code",
   "execution_count": 24,
   "metadata": {},
   "outputs": [],
   "source": [
    "    # method to get coordinates of the square player chooses each turn\n",
    "    def get_coords(self, player):\n",
    "        value = input(f\"\\nPlease enter the square number where you'd like to place your {player}: \")\n",
    "        coords = []\n",
    "        coords = np.where(self.board == value)\n",
    "        return coords"
   ]
  },
  {
   "cell_type": "markdown",
   "metadata": {},
   "source": [
    "**Step 10:** Design a method to place the player's marker on their chosen square"
   ]
  },
  {
   "cell_type": "code",
   "execution_count": 25,
   "metadata": {},
   "outputs": [],
   "source": [
    "    # method to place current player marker each turn\n",
    "    def place_marker(self, row, col, player):\n",
    "        self.board[row][col] = player"
   ]
  },
  {
   "cell_type": "markdown",
   "metadata": {},
   "source": [
    "**Step 11:** Design a method to swap player turns at the end of each round"
   ]
  },
  {
   "cell_type": "code",
   "execution_count": 26,
   "metadata": {},
   "outputs": [],
   "source": [
    "    # method to swap turns during gameplay\n",
    "    def swap_player_turn(self, player):\n",
    "        return 'X' if player == 'O' else 'O'"
   ]
  },
  {
   "cell_type": "markdown",
   "metadata": {},
   "source": [
    "**Step 12:** Design a method to determine if anyone won at the end of each round"
   ]
  },
  {
   "cell_type": "code",
   "execution_count": 27,
   "metadata": {},
   "outputs": [],
   "source": [
    "    # method to determine if there is a winner each turn\n",
    "    def player_won(self, board, player):\n",
    "        win = None\n",
    "        # check rows for win\n",
    "        for row in range(3):\n",
    "            if board[row][0] == board[row][1] and board[row][1] == board[row][2]:\n",
    "                if board[row][0] == player:\n",
    "                    win = True\n",
    "            else:\n",
    "                win = False\n",
    "                break\n",
    "            if win:\n",
    "                return win\n",
    "        # check columns for win\n",
    "        for col in range(3):\n",
    "            if board[0][col] == board[1][col] and board[1][col] == board[2][col]:\n",
    "                if board[0][col] == player:\n",
    "                    win = True\n",
    "            else:\n",
    "                win = False\n",
    "                break\n",
    "            if win:\n",
    "                return win\n",
    "        # check descending diagonal for win\n",
    "        if (board[0][0] == board[1][1] and board[1][1] == board[2][2]):\n",
    "            if (board[0][0] == player):\n",
    "                win = True\n",
    "        if win:\n",
    "            return win\n",
    "        # check ascending diagonal for win\n",
    "        if (board[0][2] == board[1][1] and board[1][1] == board[2][0]):\n",
    "            if(board[0][2]) == player:\n",
    "                win = True\n",
    "        if win:\n",
    "            return win"
   ]
  },
  {
   "cell_type": "markdown",
   "metadata": {},
   "source": [
    "**Step 13:** Design a method to play through the PvP Tic Tac Toe game!"
   ]
  },
  {
   "cell_type": "code",
   "execution_count": 28,
   "metadata": {},
   "outputs": [],
   "source": [
    "    # main gameplay loop for PvP mode\n",
    "    def play_game_1(self):\n",
    "        \"\"\"Play Tic Tac Toe (Mode 1: Player vs Player)!\"\"\"\n",
    "        # create the gameboard\n",
    "        self.create_board()            \n",
    "        # assign player markers based on choice\n",
    "        player, opponent = self.assign_markers()    \n",
    "        # randomly decide which player goes first\n",
    "        if self.coin_flip() == 1:\n",
    "            current_player = player\n",
    "        else:\n",
    "            current_player = opponent\n",
    "        # begin gameplay loop\n",
    "        while True: \n",
    "            # 1. display whose turn to play \n",
    "            print(f\"\\nPlayer {current_player}'s turn.\\n\") \n",
    "            # 2. display current gameboard\n",
    "            self.display_board() \n",
    "            # 3. capture player move\n",
    "            coords = self.get_coords(current_player)\n",
    "            try: \n",
    "                row, col = int(coords[0]), int(coords[1])\n",
    "            except TypeError:\n",
    "                print(\"\\nWrong input! Try again.\\n\")\n",
    "                continue\n",
    "\n",
    "            print() # make some space\n",
    "\n",
    "            # 4. place current player's marker on gameboard\n",
    "            self.place_marker(row, col, current_player) \n",
    "            # 5. check for wins after each player turn\n",
    "            if self.player_won(self.board, current_player):\n",
    "                print(f\"\\nPlayer {current_player} wins the game!\\n\")\n",
    "                break\n",
    "            # 6. check for draw after each player turn\n",
    "            if self.is_board_full():\n",
    "                print(\"\\nMatch draw!\\n\")\n",
    "                break\n",
    "            # 7. swap player turns\n",
    "            current_player = self.swap_player_turn(current_player)\n",
    "        # display final view of gameboard\n",
    "        print()\n",
    "        self.display_board()"
   ]
  },
  {
   "cell_type": "markdown",
   "metadata": {},
   "source": [
    "**Step 14:** Test the game!"
   ]
  },
  {
   "cell_type": "code",
   "execution_count": 29,
   "metadata": {},
   "outputs": [
    {
     "ename": "AttributeError",
     "evalue": "'TicTacToe' object has no attribute 'play_game_1'",
     "output_type": "error",
     "traceback": [
      "\u001b[1;31m---------------------------------------------------------------------------\u001b[0m",
      "\u001b[1;31mAttributeError\u001b[0m                            Traceback (most recent call last)",
      "\u001b[1;32mc:\\Users\\Saman\\Desktop\\CS 506 (programming for computing)\\06. Independent Project\\Tic-Tac-Toe-AI\\Release Notes v1.0.ipynb Cell 31'\u001b[0m in \u001b[0;36m<cell line: 3>\u001b[1;34m()\u001b[0m\n\u001b[0;32m      <a href='vscode-notebook-cell:/c%3A/Users/Saman/Desktop/CS%20506%20%28programming%20for%20computing%29/06.%20Independent%20Project/Tic-Tac-Toe-AI/Release%20Notes%20v1.0.ipynb#ch0000031?line=0'>1</a>\u001b[0m \u001b[39m# allows game to be ran from CLI via command: >>>python TicTacToe.py\u001b[39;00m\n\u001b[0;32m      <a href='vscode-notebook-cell:/c%3A/Users/Saman/Desktop/CS%20506%20%28programming%20for%20computing%29/06.%20Independent%20Project/Tic-Tac-Toe-AI/Release%20Notes%20v1.0.ipynb#ch0000031?line=1'>2</a>\u001b[0m game \u001b[39m=\u001b[39m TicTacToe()\n\u001b[1;32m----> <a href='vscode-notebook-cell:/c%3A/Users/Saman/Desktop/CS%20506%20%28programming%20for%20computing%29/06.%20Independent%20Project/Tic-Tac-Toe-AI/Release%20Notes%20v1.0.ipynb#ch0000031?line=2'>3</a>\u001b[0m game\u001b[39m.\u001b[39;49mplay_game_1()\n",
      "\u001b[1;31mAttributeError\u001b[0m: 'TicTacToe' object has no attribute 'play_game_1'"
     ]
    }
   ],
   "source": [
    "# allows game to be ran from CLI via command: >>>python TicTacToe.py\n",
    "game = TicTacToe()\n",
    "game.play_game_1() # labeled as game_1 due to future plans to include more than one gamemode option"
   ]
  }
 ],
 "metadata": {
  "interpreter": {
   "hash": "e29222f3f42e0213662c0bfcd36abfcec82c8ee47d735e7e8c247aae9a20a8c0"
  },
  "kernelspec": {
   "display_name": "Python 3.10.4 64-bit (windows store)",
   "language": "python",
   "name": "python3"
  },
  "language_info": {
   "codemirror_mode": {
    "name": "ipython",
    "version": 3
   },
   "file_extension": ".py",
   "mimetype": "text/x-python",
   "name": "python",
   "nbconvert_exporter": "python",
   "pygments_lexer": "ipython3",
   "version": "3.10.4"
  },
  "orig_nbformat": 4
 },
 "nbformat": 4,
 "nbformat_minor": 2
}
