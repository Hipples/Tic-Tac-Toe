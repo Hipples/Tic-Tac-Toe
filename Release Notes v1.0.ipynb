{
 "cells": [
  {
   "cell_type": "markdown",
   "metadata": {},
   "source": [
    "# **Tic Tac Toe, Xs & Os, Three in a Row!**\n",
    "Release version: 1.0"
   ]
  },
  {
   "cell_type": "markdown",
   "metadata": {},
   "source": [
    "#### **City University of Seattle**\n",
    "\n",
    "School of Technology & Computing  \n",
    "CS 506: Programming for Computing  \n",
    "<br>\n",
    "**An Independent Project Narration by Samantha Hipple**\n",
    "\n",
    "Release Date: May 20, 2022"
   ]
  },
  {
   "cell_type": "markdown",
   "metadata": {},
   "source": [
    "##### See the [README.md file](README.md) for this directory to review our Independent Project's provided directions.  \n",
    "\n",
    "In summary, we are to design a Tic-Tac-Toe game with the following requirements:  \n",
    "+ first player is randomly assigned\n",
    "+ player vs player game mode (required)\n",
    "+ player vs AI game mode (optional +20 points)\n",
    "+ displays updated gameboard between turns\n",
    "+ placement is based on pre-assigned positional numbers (1-9)\n",
    "+ checks for winner and prints when winner exists \n",
    "\n",
    "This notebook will provide a walkthrough of the steps taken as we build our game. This first release of our game only has one gamemode - player vs player. Future releases will include a Random AI opponent as well as a Genius AI opponent providing users with three game mode options from which to choose. Additionally, this program is designed to be played via the Command Line Interface. Future releases may include a GUI instead. "
   ]
  },
  {
   "cell_type": "markdown",
   "metadata": {},
   "source": [
    "**Step 1:** Import necessary libaries"
   ]
  },
  {
   "cell_type": "code",
   "execution_count": 6,
   "metadata": {},
   "outputs": [],
   "source": [
    "import numpy as np\n",
    "import random"
   ]
  },
  {
   "cell_type": "markdown",
   "metadata": {},
   "source": [
    "**Step 2:** Initialize TicTacToe class"
   ]
  },
  {
   "cell_type": "code",
   "execution_count": 5,
   "metadata": {},
   "outputs": [],
   "source": [
    "# Tic Tac Toe, Three in a Row!\n",
    "class TicTacToe:\n",
    "    \"\"\"Play a game of Tic Tac Toe!\"\"\"\n",
    "    # initialize the class with our gameboard defined as an empty list\n",
    "    def __init__(self):\n",
    "        self.board = []"
   ]
  },
  {
   "cell_type": "markdown",
   "metadata": {},
   "source": [
    "**Step 3:** Design a method to create the gameboard"
   ]
  },
  {
   "cell_type": "code",
   "execution_count": 4,
   "metadata": {},
   "outputs": [],
   "source": [
    "    # method to create the gameboard\n",
    "    def create_board(self):\n",
    "        for i in np.arange(1, 10).astype(str):\n",
    "            self.board.append(i)\n",
    "        self.board = np.reshape(self.board, (3, 3))"
   ]
  },
  {
   "cell_type": "markdown",
   "metadata": {},
   "source": [
    "**Step 4:** Design a method that displays the gameboard in its current state"
   ]
  },
  {
   "cell_type": "code",
   "execution_count": 3,
   "metadata": {},
   "outputs": [],
   "source": [
    "    # method to display the gameboard\n",
    "    def display_board(self):\n",
    "        print('-------------------------------')\n",
    "        for row in self.board:\n",
    "            print('|         |         |         | ')\n",
    "            print('|', end = '')\n",
    "            for item in row:\n",
    "                print(f'    {item}    |', end = '')\n",
    "            print()\n",
    "            print('|         |         |         |')\n",
    "            print('-------------------------------')"
   ]
  },
  {
   "cell_type": "markdown",
   "metadata": {},
   "source": [
    "**Step 5:** Design a method to determine if the gameboard has no more available moves"
   ]
  },
  {
   "cell_type": "code",
   "execution_count": 2,
   "metadata": {},
   "outputs": [],
   "source": [
    "    # method to determine is gameboard is full\n",
    "    def is_board_full(self):\n",
    "        for row in self.board:\n",
    "            for item in row:\n",
    "                if (item) in ['1', '2', '3', '4', '5', '6', '7', '8', '9']:\n",
    "                    return False\n",
    "        return True"
   ]
  },
  {
   "cell_type": "markdown",
   "metadata": {},
   "source": [
    "**Step 6:** Design a method that enables the players to choose their marker (X or O)"
   ]
  },
  {
   "cell_type": "code",
   "execution_count": 1,
   "metadata": {},
   "outputs": [],
   "source": [
    "    # method to enable the player to choose to be Xs or Os \n",
    "    def choose_marker(self):\n",
    "        marker = ' '\n",
    "        while (marker != 'X' and marker != 'O'):\n",
    "            marker = input(\"Do you want to be Xs or Os? \").upper()\n",
    "        if marker == 'X':\n",
    "            return ['X', 'O']\n",
    "        else:\n",
    "            return ['O', 'X']"
   ]
  },
  {
   "cell_type": "markdown",
   "metadata": {},
   "source": [
    "**Step 7:** Design a method to assign the chosen player markers"
   ]
  },
  {
   "cell_type": "code",
   "execution_count": 7,
   "metadata": {},
   "outputs": [],
   "source": [
    "    # method to assign player markers\n",
    "    def assign_markers(self):\n",
    "        self.player, self.opponent = self.choose_marker()\n",
    "        return self.player, self.opponent"
   ]
  },
  {
   "cell_type": "markdown",
   "metadata": {},
   "source": [
    "**Step 8:** Design a method to randomly assign which player goes first"
   ]
  },
  {
   "cell_type": "code",
   "execution_count": 8,
   "metadata": {},
   "outputs": [],
   "source": [
    "    # method to randomly decide who goes first\n",
    "    def coin_flip(self):\n",
    "        return random.randint(0, 1)"
   ]
  },
  {
   "cell_type": "markdown",
   "metadata": {},
   "source": [
    "**Step 9:** Design a method to retrieve the desired gameboard array coordinates by value input"
   ]
  },
  {
   "cell_type": "code",
   "execution_count": 9,
   "metadata": {},
   "outputs": [],
   "source": [
    "    # method to get coordinates of the square player chooses each turn\n",
    "    def get_coords(self, player):\n",
    "        value = input(f\"\\nPlease enter the square number where you'd like to place your {player}: \")\n",
    "        coords = []\n",
    "        coords = np.where(self.board == value)\n",
    "        return coords"
   ]
  },
  {
   "cell_type": "markdown",
   "metadata": {},
   "source": [
    "**Step 10:** Design a method to place the player's marker on their chosen square"
   ]
  },
  {
   "cell_type": "code",
   "execution_count": 10,
   "metadata": {},
   "outputs": [],
   "source": [
    "    # method to place current player marker each turn\n",
    "    def place_marker(self, row, col, player):\n",
    "        self.board[row][col] = player"
   ]
  },
  {
   "cell_type": "markdown",
   "metadata": {},
   "source": [
    "**Step 11:** Design a method to swap player turns at the end of each round"
   ]
  },
  {
   "cell_type": "code",
   "execution_count": 11,
   "metadata": {},
   "outputs": [],
   "source": [
    "    # method to swap turns during gameplay\n",
    "    def swap_player_turn(self, player):\n",
    "        return 'X' if player == 'O' else 'O'"
   ]
  },
  {
   "cell_type": "markdown",
   "metadata": {},
   "source": [
    "**Step 12:** Design a method to determine if anyone won at the end of each round"
   ]
  },
  {
   "cell_type": "code",
   "execution_count": 12,
   "metadata": {},
   "outputs": [],
   "source": [
    "    # method to determine if there is a winner each turn\n",
    "    def player_won(self, board, player):\n",
    "        win = None\n",
    "        # check rows for win\n",
    "        for row in range(3):\n",
    "            if board[row][0] == board[row][1] and board[row][1] == board[row][2]:\n",
    "                if board[row][0] == player:\n",
    "                    win = True\n",
    "            else:\n",
    "                win = False\n",
    "                break\n",
    "            if win:\n",
    "                return win\n",
    "        # check columns for win\n",
    "        for col in range(3):\n",
    "            if board[0][col] == board[1][col] and board[1][col] == board[2][col]:\n",
    "                if board[0][col] == player:\n",
    "                    win = True\n",
    "            else:\n",
    "                win = False\n",
    "                break\n",
    "            if win:\n",
    "                return win\n",
    "        # check descending diagonal for win\n",
    "        if (board[0][0] == board[1][1] and board[1][1] == board[2][2]):\n",
    "            if (board[0][0] == player):\n",
    "                win = True\n",
    "        if win:\n",
    "            return win\n",
    "        # check ascending diagonal for win\n",
    "        if (board[0][2] == board[1][1] and board[1][1] == board[2][0]):\n",
    "            if(board[0][2]) == player:\n",
    "                win = True\n",
    "        if win:\n",
    "            return win"
   ]
  }
 ],
 "metadata": {
  "interpreter": {
   "hash": "e29222f3f42e0213662c0bfcd36abfcec82c8ee47d735e7e8c247aae9a20a8c0"
  },
  "kernelspec": {
   "display_name": "Python 3.10.4 64-bit (windows store)",
   "language": "python",
   "name": "python3"
  },
  "language_info": {
   "codemirror_mode": {
    "name": "ipython",
    "version": 3
   },
   "file_extension": ".py",
   "mimetype": "text/x-python",
   "name": "python",
   "nbconvert_exporter": "python",
   "pygments_lexer": "ipython3",
   "version": "3.10.4"
  },
  "orig_nbformat": 4
 },
 "nbformat": 4,
 "nbformat_minor": 2
}
