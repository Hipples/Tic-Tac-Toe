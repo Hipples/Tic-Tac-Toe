{
 "cells": [
  {
   "cell_type": "code",
   "execution_count": null,
   "metadata": {},
   "outputs": [],
   "source": [
    "import unittest\n",
    "import numpy as np\n",
    "from tic_tac_toe import TicTacToe\n",
    "from io import StringIO\n",
    "from unittest.mock import patch"
   ]
  },
  {
   "cell_type": "code",
   "execution_count": null,
   "metadata": {},
   "outputs": [],
   "source": [
    "# create a public TicTacToe class object to use in the method unit tests\n",
    "Tic = TicTacToe()"
   ]
  },
  {
   "cell_type": "code",
   "execution_count": null,
   "metadata": {},
   "outputs": [],
   "source": [
    "# create a class for our tic_tac_toe module unit test cases\n",
    "class TicTacToeTest(unittest.TestCase):\n",
    "    \"\"\"\"Unit tests for our TicTacToe class.\"\"\""
   ]
  },
  {
   "cell_type": "code",
   "execution_count": null,
   "metadata": {},
   "outputs": [],
   "source": [
    "    # 01. test create_board()\n",
    "    def test_create_board(self):\n",
    "        \"\"\"Test that the gameboard is properly created.\"\"\"\n",
    "        Tic.create_board() # call method we are testing\n",
    "        values = ['1', '2', '3', '4', '5', '6', '7', '8', '9']\n",
    "        test_board = np.reshape(values, (3, 3)) # construct our expected result\n",
    "        # compare using np.testing due to type of ndarray\n",
    "        np.testing.assert_array_equal(Tic.board, test_board)"
   ]
  },
  {
   "cell_type": "code",
   "execution_count": null,
   "metadata": {},
   "outputs": [],
   "source": [
    "    # 02. test display_board()\n",
    "    def test_display_board(self):\n",
    "        \"\"\"Test that the gameboard is properly displayed.\"\"\"\n",
    "        with patch('sys.stdout', new=StringIO()) as output:\n",
    "            Tic.display_board() # capture output of the method we are testing       \n",
    "        # construct expected output\n",
    "        values = ['1', '2', '3', '4', '5', '6', '7', '8', '9']\n",
    "        test_board = np.reshape(values, (3, 3))\n",
    "        test_display =   ('\\t-------------------------------\\n')\n",
    "        test_display +=  ('\\t|         |         |         |\\n')\n",
    "        test_display += (f'\\t|    {test_board[0, 0]}    |    {test_board[0, 1]}    |    {test_board[0, 2]}    |\\n')\n",
    "        test_display +=  ('\\t|         |         |         |\\n')\n",
    "        test_display +=  ('\\t-------------------------------\\n')\n",
    "        test_display +=  ('\\t|         |         |         |\\n')\n",
    "        test_display += (f'\\t|    {test_board[1, 0]}    |    {test_board[1, 1]}    |    {test_board[1, 2]}    |\\n')\n",
    "        test_display +=  ('\\t|         |         |         |\\n')\n",
    "        test_display +=  ('\\t-------------------------------\\n')\n",
    "        test_display +=  ('\\t|         |         |         |\\n')\n",
    "        test_display += (f'\\t|    {test_board[2, 0]}    |    {test_board[2, 1]}    |    {test_board[2, 2]}    |\\n')\n",
    "        test_display +=  ('\\t|         |         |         |\\n')\n",
    "        test_display +=  ('\\t-------------------------------\\n')\n",
    "        # compare the value of our method's output and our expected output\n",
    "        self.assertEqual(output.getvalue(), test_display)"
   ]
  },
  {
   "cell_type": "code",
   "execution_count": null,
   "metadata": {},
   "outputs": [],
   "source": [
    "    # 03. test reset_board()\n",
    "    def test_reset_board(self):\n",
    "        \"\"\"Test that the gameboard is reset to an empty list\"\"\"\n",
    "        Tic.reset_board() # call method we are testing\n",
    "        test_board = [] # construct expected result\n",
    "        # compare by calling in the class variable that was reset using Tic\n",
    "        self.assertEqual(Tic.board, test_board)"
   ]
  },
  {
   "cell_type": "code",
   "execution_count": null,
   "metadata": {},
   "outputs": [],
   "source": [
    "    @unittest.mock.patch('tic_tac_toe.input', create = True)\n",
    "    # 04. test choose_marker()\n",
    "    def test_choose_marker(self, mocked_input):\n",
    "        \"\"\"Test that user input is properly reflected in the list order of the returned characters.\"\"\"\n",
    "        mocked_input.side_effect = ['x'] # create a mock input for 'x'\n",
    "        result = Tic.choose_marker() # capture results of the method we are testing\n",
    "        self.assertEqual(result, ['X', 'O']) # compare with expected results based on mock input\n",
    "\n",
    "        mocked_input.side_effect = ['o'] # create a mock input for 'o'\n",
    "        result = Tic.choose_marker() # capture results of the method we are testing\n",
    "        self.assertEqual(result, ['O', 'X']) # compare with expected results based on mock input"
   ]
  },
  {
   "cell_type": "code",
   "execution_count": null,
   "metadata": {},
   "outputs": [],
   "source": [
    "# run the tests\n",
    "if __name__ == '__main__':\n",
    "    unittest.main() "
   ]
  }
 ],
 "metadata": {
  "interpreter": {
   "hash": "e29222f3f42e0213662c0bfcd36abfcec82c8ee47d735e7e8c247aae9a20a8c0"
  },
  "kernelspec": {
   "display_name": "Python 3.10.4 64-bit (windows store)",
   "language": "python",
   "name": "python3"
  },
  "language_info": {
   "codemirror_mode": {
    "name": "ipython",
    "version": 3
   },
   "file_extension": ".py",
   "mimetype": "text/x-python",
   "name": "python",
   "nbconvert_exporter": "python",
   "pygments_lexer": "ipython3",
   "version": "3.10.4"
  },
  "orig_nbformat": 4
 },
 "nbformat": 4,
 "nbformat_minor": 2
}
