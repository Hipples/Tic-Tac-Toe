{
 "cells": [
  {
   "cell_type": "markdown",
   "metadata": {},
   "source": [
    "# **Tic Tac Toe, Xs & Os, Three in a Row!**\n",
    "Release Version 2.0"
   ]
  },
  {
   "cell_type": "markdown",
   "metadata": {},
   "source": [
    "#### **City University of Seattle**\n",
    "\n",
    "School of Technology & Computing  \n",
    "CS 506: Programming for Computing  \n",
    "<br>\n",
    "**An Independent Project Narration**  \n",
    "by Samantha Hipple\n",
    "\n",
    "Release Date: May 23, 2022"
   ]
  },
  {
   "cell_type": "markdown",
   "metadata": {},
   "source": [
    "**Note:** *See [Release Notes v1.0](/TicTacToe%20v1.0/Release%20Notes%20v1.0.ipynb) to review our initial Tic Tac Toe release narration.*  \n",
    "\n",
    "In summary, in our initial release, we designed a game with the following features:  \n",
    "+ creates and displays an updateable gameboard\n",
    "+ players choose their marker (X or O)\n",
    "+ first player is randomly assigned\n",
    "+ accepts player inputs of 1-9 to determine moves based on open squares\n",
    "+ prevents invalid inputs from interrupting gameplay progress\n",
    "+ swaps players after each player turn\n",
    "+ checks for wins or draws after each player turn\n",
    "+ main gameplay loop designed for PvP mode\n",
    "\n",
    "The following provides a brief outline of how our initial Tic Tac Toe program was updated to create version 2.0.\n",
    "\n",
    "**Features Added:**\n",
    "+ all match moves and outcomes are recorded in [tic_tac_toe.txt](/TicTacToe%20v2.0/tic_tac_toe.txt)\n",
    "+ startup and game over menu displays and options\n",
    "+ accepts user inputs for menu options\n",
    "+ captures and executes **Ctrl + c** (**KeyInterrupt**) even during user input events\n",
    "+ second PvE game mode available versus a randomized AI\n",
    "+ checks for moves available throughout match \n",
    "+ determines random AI moves from available moves\n",
    "+ ability to reset gameboard after a winner or draw has been determined\n",
    "+ replay option available at the end of each match\n",
    "\n",
    "**Modules Added:**\n",
    "+ *main.py*: \n",
    "    + **startup( ):**  loads entire program \n",
    "    + **game_over( ):**  provides user options when replay option is declined at the end of a match\n",
    "+ *ttt_menus.py* --> **class TTTMenus:**\n",
    "    + **create_welcome_screen( ):**  gives game a main menu\n",
    "    + **display_welcome_screen( ):**  displays the main menu upon startup\n",
    "    + **create_game_over_screen( ):**  gives game a game over menu\n",
    "    + **display_game_over_screen( ):**  displays menu when replay option is declined at the end of a match\n",
    "    + **get_player_selection( ):**  captures player menu selections\n",
    "\n",
    "**Methods Added to *tic_tac_toe.py*:**\n",
    "+ **game_mode_2_PvE( ):**  player vs randomized AI\n",
    "+ **reset_board( ):**  needed to enable replay\n",
    "+ **replay( ):**  enables replay option at the end of a match\n",
    "+ **computer_move( ):**  records AI movements\n",
    "+ **random_moves( ):**  provides AI opponent its gameplay logic\n",
    "+ **human_moves( ):**  capture human player input --> pulled from former **get_coords( )** method\n",
    "\n",
    "**Methods Modified within *tic_tac_toe.py*:**\n",
    "+ **__init__( ):**  added values list and text file \n",
    "+ **is_board_full( ):**  changed **item** to **square** for consistency \n",
    "+ **assign_markers( ):**  removed **self** declaration from **player** and **opponent** variables\n",
    "+ **get_coords( ):**  input is no longer hardcoded; **value** changed to **move** for consistency \n",
    "+ **player_won( ):**  became **is_winner( )**; round bracket use was made consistent throughout the method\n",
    "+ **play_game_1( ):**  became **game_mode_1_PvP( )** -- currently not functional, needs to be updated\n",
    "\n",
    "Lastly, this release includes a Test Case module for our project in order to automate tests when building future releases. The rest of this notebook will provide further details on the updated portions of our program. Future releases may include a Genius AI mode that uses the minimax algorithm to drive the computers game logic, a GUI version of the game, and exectuable programs for easy play testing by the public. "
   ]
  },
  {
   "cell_type": "markdown",
   "metadata": {},
   "source": [
    "### **TicTacToe** class methods"
   ]
  },
  {
   "cell_type": "code",
   "execution_count": null,
   "metadata": {},
   "outputs": [],
   "source": [
    "import numpy as np \n",
    "import random"
   ]
  },
  {
   "cell_type": "markdown",
   "metadata": {},
   "source": [
    "#### Update 1: Initialization\n",
    "\n",
    "Here, we included two new class variables: (1) **self.values** which provides the list of values that would be displayed on a newly generated gameboard, and (2) **self.movement_records** which contains the name of our text file used to record matches played. "
   ]
  },
  {
   "cell_type": "code",
   "execution_count": null,
   "metadata": {},
   "outputs": [],
   "source": [
    "# Tic Tac Toe, Three in a Row!\n",
    "class TicTacToe:\n",
    "    \"\"\"Play a TicTacToe game!\"\"\"\n",
    "    def __init__(self):\n",
    "        self.board = [] # empty gameboard\n",
    "        self.values = ['1', '2', '3', '4', '5', '6', '7', '8', '9'] # gameboard initial values\n",
    "        self.movement_records = 'tic_tac_toe.txt' # file to keep record player movements"
   ]
  },
  {
   "cell_type": "code",
   "execution_count": null,
   "metadata": {},
   "outputs": [],
   "source": [
    "    # method to create the gameboard\n",
    "    def create_board(self):\n",
    "        for i in np.arange(1, 10).astype(str):\n",
    "            self.board.append(i)\n",
    "        self.board = np.reshape(self.board, (3, 3))"
   ]
  },
  {
   "cell_type": "code",
   "execution_count": null,
   "metadata": {},
   "outputs": [],
   "source": [
    "    # my method to display the gameboard\n",
    "    def display_board(self):\n",
    "        print('\\t-------------------------------')\n",
    "        for row in self.board:\n",
    "            print('\\t|         |         |         | ')\n",
    "            print('\\t|', end = '')\n",
    "            for item in row:\n",
    "                print(f'    {item}    |', end = '')\n",
    "            print()\n",
    "            print('\\t|         |         |         |')\n",
    "            print('\\t-------------------------------') "
   ]
  },
  {
   "cell_type": "markdown",
   "metadata": {},
   "source": [
    "#### Update 2: Clear the board to play again\n",
    "\n",
    "Here, we have added a new method designed to reset our gameboard at the end of a match so that the user can decide to play another round without exiting the program. "
   ]
  },
  {
   "cell_type": "code",
   "execution_count": null,
   "metadata": {},
   "outputs": [],
   "source": [
    "    # method to clear board at game over\n",
    "    def reset_board(self):\n",
    "        self.board = []"
   ]
  },
  {
   "cell_type": "code",
   "execution_count": null,
   "metadata": {},
   "outputs": [],
   "source": [
    "    # method to enable the player to choose to be Xs or Os \n",
    "    def choose_marker(self):\n",
    "        marker = ' '\n",
    "        while (marker != 'X' and marker != 'O'):\n",
    "            marker = input(\"\\n\\tDo you want to be Xs or Os? \").upper()\n",
    "        if marker == 'X':\n",
    "            return ['X', 'O']\n",
    "        else:\n",
    "            return ['O', 'X']"
   ]
  },
  {
   "cell_type": "markdown",
   "metadata": {},
   "source": [
    "#### Update 3: Syntax oversight correction\n",
    "\n",
    "Our initial release used **self.player** and **self.opponent** when assigning player markers. There is absolutely no need for the **self** keyword in this method. "
   ]
  },
  {
   "cell_type": "code",
   "execution_count": null,
   "metadata": {},
   "outputs": [],
   "source": [
    "    # method to assign player markers\n",
    "    def assign_markers(self):\n",
    "        player, opponent = self.choose_marker()\n",
    "        return player, opponent"
   ]
  },
  {
   "cell_type": "code",
   "execution_count": null,
   "metadata": {},
   "outputs": [],
   "source": [
    "    # method to randomly decide who goes first\n",
    "    def coin_flip(self):\n",
    "        return random.randint(0, 1)"
   ]
  },
  {
   "cell_type": "markdown",
   "metadata": {},
   "source": [
    "#### Update 4: Refractoring \n",
    "\n",
    "Here, we added the method **human_moves( )** designed to capture a human player's movement input and return the value entered. This method replaces the hardcoding of players' inputs that was originally within our **get_coords( )** method. "
   ]
  },
  {
   "cell_type": "code",
   "execution_count": null,
   "metadata": {},
   "outputs": [],
   "source": [
    "    # method to determine player movement choice\n",
    "    def human_moves(self, player):\n",
    "        move = input(f\"\\n\\tPlease enter the square number where you'd like to place your {player}: \")\n",
    "        print(f\"\\n\\tYou chose square {move}!\")\n",
    "        return move"
   ]
  },
  {
   "cell_type": "markdown",
   "metadata": {},
   "source": [
    "As mentioned above, **get_coords( )** was modified from using a hardcoded input to calling our **human_moves( )** method instead in order to obtain the users' desired moves. "
   ]
  },
  {
   "cell_type": "code",
   "execution_count": null,
   "metadata": {},
   "outputs": [],
   "source": [
    "    # method to determine coordinates player moves\n",
    "    def get_coords(self, player):\n",
    "        move = self.human_moves(player)\n",
    "        coords = []\n",
    "        coords = np.where(self.board == move)\n",
    "        return coords"
   ]
  },
  {
   "cell_type": "markdown",
   "metadata": {},
   "source": [
    "#### Update 5: Adding random AI game logic\n",
    "\n",
    "Here, we have designed a method that determines a random move for our computer opponent to make out of all available moves throughout the game. "
   ]
  },
  {
   "cell_type": "code",
   "execution_count": null,
   "metadata": {},
   "outputs": [],
   "source": [
    "    # method to determine Random AI moves\n",
    "    def random_moves(self):\n",
    "        possible_moves = []\n",
    "        for row in self.board:\n",
    "            for square in row:\n",
    "                if square in self.values:\n",
    "                    possible_moves.append(square)       \n",
    "        move = random.choice(possible_moves)\n",
    "        return move"
   ]
  },
  {
   "cell_type": "code",
   "execution_count": null,
   "metadata": {},
   "outputs": [],
   "source": [
    "    # method to place marker\n",
    "    def place_marker(self, row, col, player):\n",
    "        self.board[row][col] = player"
   ]
  },
  {
   "cell_type": "markdown",
   "metadata": {},
   "source": [
    "#### Update 6: Catching execptions and recording player movements\n",
    "\n",
    "Here, *add description....*"
   ]
  },
  {
   "cell_type": "code",
   "execution_count": null,
   "metadata": {},
   "outputs": [],
   "source": [
    "    # method to record player moves\n",
    "    def player_move(self, player):\n",
    "        while True:\n",
    "            try:\n",
    "                coords = self.get_coords(player)\n",
    "                row, col = int(coords[0]), int(coords[1])\n",
    "            except KeyboardInterrupt:\n",
    "                print(\"\\n\\n\\tGood bye!\")\n",
    "                exit()\n",
    "            except:\n",
    "                print(\"\\n\\tWrong input! Try again.\\n\")\n",
    "            else:\n",
    "                move = self.board[row][col]\n",
    "                with open(self.movement_records, 'a') as record:\n",
    "                    record.write(f\"{player}:{move} \")   # append player move to tic_tac_toe.txt\n",
    "                self.place_marker(row, col, player)\n",
    "                return False"
   ]
  },
  {
   "cell_type": "markdown",
   "metadata": {},
   "source": [
    "#### Update 7: Recording AI movements\n",
    "\n",
    "Here, *add description....*"
   ]
  },
  {
   "cell_type": "code",
   "execution_count": null,
   "metadata": {},
   "outputs": [],
   "source": [
    "    # method to record AI moves\n",
    "    def computer_move(self, player):\n",
    "        move = self.random_moves()\n",
    "        coords = np.where(self.board == move)\n",
    "        row, col = (int(coords[0])), (int(coords[1]))\n",
    "        print(f\"\\n\\tRandAI chooses square {move}!\\n\")\n",
    "        with open(self.movement_records, 'a') as record:    \n",
    "            record.write(f\"{player}:{move} \")   # append move to tic_tac_toe.txt\n",
    "        self.place_marker(row, col, player)"
   ]
  },
  {
   "cell_type": "markdown",
   "metadata": {},
   "source": [
    "#### Update 8: Creating consistency amongst variable names\n",
    "\n",
    "Here, *add description....*"
   ]
  },
  {
   "cell_type": "code",
   "execution_count": null,
   "metadata": {},
   "outputs": [],
   "source": [
    "    # method to determine if gameboard is full\n",
    "    def is_board_full(self):\n",
    "        for row in self.board:\n",
    "            for square in row:\n",
    "                if (square) in self.values:\n",
    "                    return False\n",
    "        return True"
   ]
  },
  {
   "cell_type": "markdown",
   "metadata": {},
   "source": [
    "#### Update 9: Modifying method name and cleaning up code formatting\n",
    "\n",
    "Here, *add description....*"
   ]
  },
  {
   "cell_type": "code",
   "execution_count": null,
   "metadata": {},
   "outputs": [],
   "source": [
    "    # method to determine if there is a winner each turn             \n",
    "    def is_winner(self, board, player):\n",
    "        win = None\n",
    "        # check rows for win\n",
    "        for row in range(3):\n",
    "            if board[row][0] == board[row][1] and board[row][1] == board[row][2]:\n",
    "                if board[row][0] == player:\n",
    "                    win = True\n",
    "            if(win):\n",
    "                return(win)\n",
    "        # check columns for win\n",
    "        for col in range(3):\n",
    "            if board[0][col] == board[1][col] and board[1][col] == board[2][col]:\n",
    "                if board[0][col] == player:\n",
    "                    win = True\n",
    "            if(win):\n",
    "                return(win)\n",
    "        # check descending diagonal for win\n",
    "        if board[0][0] == board[1][1] and board[1][1] == board[2][2]:\n",
    "            if board[0][0] == player:\n",
    "                win = True\n",
    "        if(win):\n",
    "            return(win)\n",
    "        # check ascending diagonal for win\n",
    "        if board[0][2] == board[1][1] and board[1][1] == board[2][0]:\n",
    "            if board[0][2] == player:\n",
    "                win = True\n",
    "        if(win):\n",
    "            return(win)"
   ]
  },
  {
   "cell_type": "code",
   "execution_count": null,
   "metadata": {},
   "outputs": [],
   "source": [
    "    # method to swap turns between players\n",
    "    def swap_player_turn(self, player):\n",
    "        return 'X' if player == 'O' else 'O'  "
   ]
  },
  {
   "cell_type": "markdown",
   "metadata": {},
   "source": [
    "#### Update 10: Adding a replay option\n",
    "\n",
    "Here, *add description....*"
   ]
  },
  {
   "cell_type": "code",
   "execution_count": null,
   "metadata": {},
   "outputs": [],
   "source": [
    "    # method designed to enable replay at end of round   \n",
    "    def replay(self):\n",
    "        replay = input(\"\\n\\tWould you like to play again? (y/n) \")\n",
    "        if replay.lower() == 'y':\n",
    "            return True\n",
    "        elif replay.lower() == 'n':\n",
    "            return False\n",
    "        else:\n",
    "            self.replay()  "
   ]
  },
  {
   "cell_type": "markdown",
   "metadata": {},
   "source": [
    "#### Update 11: Patch PvP mode game play loop to restore functionality\n",
    "\n",
    "Here, *add description....*"
   ]
  },
  {
   "cell_type": "code",
   "execution_count": null,
   "metadata": {},
   "outputs": [],
   "source": [
    "    # PvP mode gameplay loop\n",
    "    def game_mode_1_PvP(self):\n",
    "        \"\"\"Play Tic Tac Toe (Mode 1: Player vs Player)!\"\"\"\n",
    "        # 1. create the gameboard\n",
    "        self.create_board()            \n",
    "        # 2. assign player markers based on choice\n",
    "        player, opponent = self.assign_markers()    \n",
    "        # 3. randomly decide which player goes first\n",
    "        if self.coin_flip() == 1:\n",
    "            current_player = player\n",
    "        else:\n",
    "            current_player = opponent\n",
    "        # 4. begin gameplay loop\n",
    "        while True: \n",
    "            # 5. display whose turn to play \n",
    "            print(f\"\\n\\tPlayer {current_player}'s turn.\\n\") \n",
    "            # 6. display updated gameboard\n",
    "            self.display_board() \n",
    "            # 7. capture and make player move\n",
    "            self.player_move(current_player)\n",
    "            # just making some extra space\n",
    "            print() \n",
    "            # 8. check for wins after each player turn\n",
    "            if self.is_winner(self.board, current_player):\n",
    "                print(f\"\\n\\tPlayer {current_player} wins the game!\\n\")\n",
    "                break # game over\n",
    "            # 9. check for draw after each player turn\n",
    "            if self.is_board_full():\n",
    "                print(\"\\n\\tMatch draw!\\n\")\n",
    "                break # game over\n",
    "            # 10. swap player turns\n",
    "            current_player = self.swap_player_turn(current_player)\n",
    "        print()\n",
    "        # game over - display final view of gameboard\n",
    "        self.display_board()\n",
    "        self.reset_board()"
   ]
  },
  {
   "cell_type": "markdown",
   "metadata": {},
   "source": [
    "#### Update 12: Add PvE game play loop \n",
    "\n",
    "Here, *add description....*"
   ]
  },
  {
   "cell_type": "code",
   "execution_count": null,
   "metadata": {},
   "outputs": [],
   "source": [
    "    # PvE (easy) mode gameplay loop\n",
    "    def game_mode_2_PvE(self):\n",
    "        \"\"\"Play Tic Tac Toe (Mode 2: PvE (random AI))\"\"\"\n",
    "        # initiate replay loop\n",
    "        while True:\n",
    "            # 0. append 'New Game!' to tic_tac_toe.py\n",
    "            with open(self.movement_records, 'a') as record:    \n",
    "                record.write(f\"\\n\\nNew Game!\\n\")\n",
    "            # 1. create the gameboard\n",
    "            self.create_board()            \n",
    "            # 2. assign markers based on choice\n",
    "            player, computer = self.assign_markers()    \n",
    "            # 3. randomly decide which player goes first\n",
    "            if self.coin_flip() == 1:\n",
    "                first_player = player\n",
    "            else:\n",
    "                first_player = computer\n",
    "            # 4. inform the players who won first turn\n",
    "            print(f\"\\n\\tPlayer {first_player} will go first!\\n\") \n",
    "            # 5. display empty gameboard\n",
    "            self.display_board()\n",
    "            # 6a. if human player. . .\n",
    "            if first_player == player:\n",
    "                # input and make move\n",
    "                self.player_move(first_player)\n",
    "                print()\n",
    "                # display updated gameboard\n",
    "                self.display_board()\n",
    "                # assign to current player\n",
    "                current_player = player\n",
    "            # 6b. if computer player. . .\n",
    "            else:\n",
    "                # generate and make random move\n",
    "                self.computer_move(first_player)\n",
    "                print() \n",
    "                # display updated gameboard\n",
    "                self.display_board()\n",
    "                # assign to current player\n",
    "                current_player = computer\n",
    "            # 7. main game play loop\n",
    "            while True:\n",
    "                # 8. swap player turn\n",
    "                current_player = self.swap_player_turn(current_player)\n",
    "                # 9. display the current player\n",
    "                print(f\"\\n\\tPlayer {current_player}'s turn.\\n\") \n",
    "                # 10a. if player is human, use player_move method\n",
    "                if current_player == player:\n",
    "                    self.player_move(current_player)\n",
    "                # 10b. if player is a computer, use computer_move method\n",
    "                else: \n",
    "                    self.computer_move(current_player)\n",
    "                # 11a. check if there is a winner\n",
    "                if self.is_winner(self.board, current_player):\n",
    "                    print(f\"\\n\\tPlayer {current_player} wins the game!\\n\")\n",
    "                    # 11b. record the winner in tic_tac_toe.txt\n",
    "                    with open(self.movement_records, 'a') as record:    \n",
    "                        record.write(f\"\\nPlayer {current_player} won the game!\\n\")\n",
    "                    # 11c. game over\n",
    "                    break \n",
    "                # 12a. check if there is a draw\n",
    "                if self.is_board_full():\n",
    "                    print(\"\\n\\tMatch draw!\\n\")\n",
    "                    # 12b. record the draw status in tic_tac_toe.txt\n",
    "                    with open(self.movement_records, 'a') as record:\n",
    "                        record.write(\"\\nMatch was a draw!\\n\") \n",
    "                    # 12c. game over\n",
    "                    break \n",
    "                # 13. display updated gameboard\n",
    "                self.display_board() \n",
    "            print()\n",
    "            # 14. final gameboard display\n",
    "            self.display_board()\n",
    "            print()\n",
    "            # 15. replay option\n",
    "            if self.replay() == False:\n",
    "                break\n",
    "            else:\n",
    "                self.reset_board()"
   ]
  },
  {
   "cell_type": "markdown",
   "metadata": {},
   "source": [
    "### **TTTMenus** class methods"
   ]
  },
  {
   "cell_type": "markdown",
   "metadata": {},
   "source": [
    "#### Update 13: Create a class for the game menus\n",
    "\n",
    "Here, *add description....*"
   ]
  },
  {
   "cell_type": "code",
   "execution_count": null,
   "metadata": {},
   "outputs": [],
   "source": [
    "class TTTMenus:\n",
    "    def __init__(self):\n",
    "        pass "
   ]
  },
  {
   "cell_type": "markdown",
   "metadata": {},
   "source": [
    "#### Update 14: Design a welcome screen / main menu for our game\n",
    "\n",
    "Here, *add description....*"
   ]
  },
  {
   "cell_type": "code",
   "execution_count": null,
   "metadata": {},
   "outputs": [],
   "source": [
    "    def create_welcome_screen(self):\n",
    "        startup =  \"\\t __________________________________________________ \\n\"\n",
    "        startup += \"\\t|                                                  |\\n\"\n",
    "        startup += \"\\t|     Tic Tac Toe, Xs and Os, Three in a Row!!     |\\n\"\n",
    "        startup += \"\\t|                                                  |\\n\"\n",
    "        startup += \"\\t|--------------------------------------------------|\\n\"\n",
    "        startup += \"\\t|                                                  |\\n\"\n",
    "        startup += \"\\t|  Welcome Player(s)!                              |\\n\"\n",
    "        startup += \"\\t|                                                  |\\n\"        \n",
    "        startup += \"\\t|  To play, select an option below:                |\\n\"\n",
    "        startup += \"\\t|--------------------------------------------------|\\n\" \n",
    "        startup += \"\\t|                                                  |\\n\"\n",
    "        startup += \"\\t|  [1]: Player vs Player                           |\\n\"\n",
    "        startup += \"\\t|                                                  |\\n\"\n",
    "        startup += \"\\t|  [2]: Player vs Computer (random AI)             |\\n\"\n",
    "        startup += \"\\t|                                                  |\\n\"\n",
    "        startup += \"\\t|  [3]: Quit                                       |\\n\"\n",
    "        startup += \"\\t|__________________________________________________|\\n\"\n",
    "        return(startup)"
   ]
  },
  {
   "cell_type": "markdown",
   "metadata": {},
   "source": [
    "#### Update 15: Create a method to display the main menu\n",
    "\n",
    "Here, *add description....*"
   ]
  },
  {
   "cell_type": "code",
   "execution_count": null,
   "metadata": {},
   "outputs": [],
   "source": [
    "    def display_welcome_screen(self):\n",
    "        print(self.create_welcome_screen())"
   ]
  },
  {
   "cell_type": "markdown",
   "metadata": {},
   "source": [
    "#### Update 16: Design a method to capture player menu selections\n",
    "\n",
    "Here, *add description....*"
   ]
  },
  {
   "cell_type": "code",
   "execution_count": null,
   "metadata": {},
   "outputs": [],
   "source": [
    "    def get_player_selection(self):\n",
    "        selection = input(\"\\n\\tPlayer Selection: \")\n",
    "        print()\n",
    "        return(selection)"
   ]
  },
  {
   "cell_type": "markdown",
   "metadata": {},
   "source": [
    "#### Update 17: Design a game over menu \n",
    "\n",
    "Here, *add description....*"
   ]
  },
  {
   "cell_type": "code",
   "execution_count": null,
   "metadata": {},
   "outputs": [],
   "source": [
    "    def create_game_over_screen(self):\n",
    "        game_over =  \"\\t __________________________________________________ \\n\"\n",
    "        game_over += \"\\t|                                                  |\\n\"\n",
    "        game_over += \"\\t|                    GAME OVER!                    |\\n\"\n",
    "        game_over += \"\\t|                                                  |\\n\"\n",
    "        game_over += \"\\t|--------------------------------------------------|\\n\"\n",
    "        game_over += \"\\t|                                                  |\\n\"\n",
    "        game_over += \"\\t|  GGs! Would you like to play another mode?       |\\n\"\n",
    "        game_over += \"\\t|                                                  |\\n\"        \n",
    "        game_over += \"\\t|  Select an option from the menu below:           |\\n\"\n",
    "        game_over += \"\\t|--------------------------------------------------|\\n\" \n",
    "        game_over += \"\\t|                                                  |\\n\"\n",
    "        game_over += \"\\t|  [1]: Main Menu                                  |\\n\"\n",
    "        game_over += \"\\t|                                                  |\\n\"\n",
    "        game_over += \"\\t|  [2]: Quit                                       |\\n\"         \n",
    "        game_over += \"\\t|__________________________________________________|\\n\"\n",
    "        return(game_over)"
   ]
  },
  {
   "cell_type": "markdown",
   "metadata": {},
   "source": [
    "#### Update 18: Create a method to display the game over menu\n",
    "\n",
    "Here, *add description....*"
   ]
  },
  {
   "cell_type": "code",
   "execution_count": null,
   "metadata": {},
   "outputs": [],
   "source": [
    "    def display_game_over_screen(self):\n",
    "        print(self.create_game_over_screen())"
   ]
  },
  {
   "cell_type": "markdown",
   "metadata": {},
   "source": [
    "### *main.py*\n",
    "\n",
    "Here, *add description....*"
   ]
  },
  {
   "cell_type": "markdown",
   "metadata": {},
   "source": [
    "1. Import our tic tac toe program modules"
   ]
  },
  {
   "cell_type": "code",
   "execution_count": null,
   "metadata": {},
   "outputs": [],
   "source": [
    "import ttt_menus\n",
    "import tic_tac_toe"
   ]
  },
  {
   "cell_type": "markdown",
   "metadata": {},
   "source": [
    "2. Create class objects to neatly call any of their required methods. "
   ]
  },
  {
   "cell_type": "code",
   "execution_count": null,
   "metadata": {},
   "outputs": [],
   "source": [
    "# class objects\n",
    "menus = ttt_menus.TTTMenus()\n",
    "Xs_and_Os = tic_tac_toe.TicTacToe()"
   ]
  },
  {
   "cell_type": "markdown",
   "metadata": {},
   "source": [
    "3. Design a startup function to load and run our program. "
   ]
  },
  {
   "cell_type": "code",
   "execution_count": null,
   "metadata": {},
   "outputs": [],
   "source": [
    "def startup():\n",
    "    menus.display_welcome_screen()\n",
    "    game_mode = ' '\n",
    "    while True:\n",
    "        try:\n",
    "            game_mode = int(menus.get_player_selection())\n",
    "        except ValueError:\n",
    "            print(\"\\n\\tInvalid input. Please enter 1 2 or 3.\\n\")\n",
    "        except KeyboardInterrupt:\n",
    "            print(\"\\n\\tGood bye!\\n\")\n",
    "        else:\n",
    "            if(game_mode == 1): \n",
    "                Xs_and_Os.game_mode_1_PvP()\n",
    "                break\n",
    "            elif(game_mode == 2): \n",
    "                Xs_and_Os.game_mode_2_PvE()\n",
    "                break\n",
    "            elif(game_mode == 3):\n",
    "                print(\"\\n\\tGood bye!\\n\")\n",
    "                exit()\n",
    "        return True"
   ]
  },
  {
   "cell_type": "markdown",
   "metadata": {},
   "source": [
    "4. Design a game over function to provide user options after declining to replay the match"
   ]
  },
  {
   "cell_type": "code",
   "execution_count": null,
   "metadata": {},
   "outputs": [],
   "source": [
    "def game_over():\n",
    "    menus.display_game_over_screen()\n",
    "    while True:\n",
    "        try:\n",
    "            selection = int(menus.get_player_selection())\n",
    "        except ValueError:\n",
    "            print(\"\\n\\tInvalid input. Please enter 1 or 2.\\n\")\n",
    "        except KeyboardInterrupt:\n",
    "            print(\"\\n\\n\\tGood bye!\\n\")\n",
    "            exit()\n",
    "        else:\n",
    "            if(selection == 1): \n",
    "                startup()\n",
    "            if(selection == 2):\n",
    "                print(\"\\n\\tGood bye!\\n\")\n",
    "                exit()"
   ]
  },
  {
   "cell_type": "markdown",
   "metadata": {},
   "source": [
    "5. Two simple function calls are all that's needed to run our program. "
   ]
  },
  {
   "cell_type": "code",
   "execution_count": null,
   "metadata": {},
   "outputs": [],
   "source": [
    "# driver code\n",
    "startup()\n",
    "print()\n",
    "game_over()"
   ]
  }
 ],
 "metadata": {
  "language_info": {
   "name": "python"
  },
  "orig_nbformat": 4
 },
 "nbformat": 4,
 "nbformat_minor": 2
}
