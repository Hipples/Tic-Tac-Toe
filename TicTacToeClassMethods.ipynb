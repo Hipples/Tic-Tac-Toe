{
 "cells": [
  {
   "cell_type": "code",
   "execution_count": 81,
   "metadata": {},
   "outputs": [],
   "source": [
    "# import necessary libaries\n",
    "\n",
    "import random\n",
    "import numpy as np"
   ]
  },
  {
   "cell_type": "code",
   "execution_count": 82,
   "metadata": {},
   "outputs": [],
   "source": [
    "class TicTacToe:\n",
    "    def __init__(self):\n",
    "        self.board = []"
   ]
  },
  {
   "cell_type": "code",
   "execution_count": 94,
   "metadata": {},
   "outputs": [],
   "source": [
    "# create the Tic Tac Toe gameboard\n",
    "\n",
    "def create_board(self):\n",
    "    for i in range(9):\n",
    "        self.board.append(i + 1)\n",
    "    self.board = np.reshape(self.board, (3, 3))"
   ]
  },
  {
   "cell_type": "code",
   "execution_count": 84,
   "metadata": {},
   "outputs": [
    {
     "name": "stdout",
     "output_type": "stream",
     "text": [
      "-------------------------------\n",
      "|         |         |         | \n",
      "|    1    |    2    |    3    |\n",
      "|         |         |         |\n",
      "-------------------------------\n",
      "|         |         |         | \n",
      "|    4    |    5    |    6    |\n",
      "|         |         |         |\n",
      "-------------------------------\n",
      "|         |         |         | \n",
      "|    7    |    8    |    9    |\n",
      "|         |         |         |\n",
      "-------------------------------\n"
     ]
    }
   ],
   "source": [
    "# display the gameboard\n",
    "\n",
    "class TicTacToe:\n",
    "    def __init__(self):\n",
    "        self.board = []\n",
    "\n",
    "    def create_board(self):\n",
    "        for i in range(9):\n",
    "            self.board.append(i + 1)\n",
    "        self.board = np.reshape(self.board, (3, 3))\n",
    "\n",
    "    def display_board(self):\n",
    "        print('-------------------------------')\n",
    "        for row in self.board:\n",
    "            print('|         |         |         | ')\n",
    "            print('|', end = '')\n",
    "            for item in row:\n",
    "                print(f'    {item}    |', end = '')\n",
    "            print()\n",
    "            print('|         |         |         |')\n",
    "            print('-------------------------------')\n",
    "\n",
    "# test gameboard display\n",
    "game = TicTacToe()\n",
    "game.create_board()\n",
    "game.display_board()"
   ]
  },
  {
   "cell_type": "code",
   "execution_count": 85,
   "metadata": {},
   "outputs": [
    {
     "name": "stdout",
     "output_type": "stream",
     "text": [
      "X O\n"
     ]
    }
   ],
   "source": [
    "# choose and assign player markers ( X or O )\n",
    "\n",
    "class TicTacToe:\n",
    "    def __init__(self):\n",
    "       self.board = []\n",
    "       self.player = ''         # added player objects\n",
    "       self.opponent = ''       # to initialization method\n",
    "\n",
    "# --snip--\n",
    "\n",
    "    # let players choose their marker (X or O)\n",
    "    def choose_marker(self):\n",
    "        marker = ' '\n",
    "        while (marker != 'X' and marker != 'O'):\n",
    "            marker = input(\"Do you want to be Xs or Os? \").upper()\n",
    "        if marker == 'X':\n",
    "            return ['X', 'O']\n",
    "        else:\n",
    "            return ['O', 'X']\n",
    "            \n",
    "    # method to assign player markers\n",
    "    def assign_markers(self):\n",
    "        self.player, self.opponent = self.choose_marker()\n",
    "        return self.player, self.opponent\n",
    "\n",
    "\n",
    "# test ability to choose player marker\n",
    "marker = TicTacToe()\n",
    "player, opponent = marker.assign_markers()\n",
    "print(player, opponent)"
   ]
  },
  {
   "cell_type": "code",
   "execution_count": 86,
   "metadata": {},
   "outputs": [
    {
     "name": "stdout",
     "output_type": "stream",
     "text": [
      "0\n"
     ]
    }
   ],
   "source": [
    "# method to randomly decide who goes first\n",
    "\n",
    "def coin_flip(self):\n",
    "    return random.randint(0, 1)\n",
    "\n",
    "result = coin_flip(TicTacToe)\n",
    "print(result)"
   ]
  },
  {
   "cell_type": "code",
   "execution_count": 93,
   "metadata": {},
   "outputs": [
    {
     "data": {
      "text/plain": [
       "False"
      ]
     },
     "execution_count": 93,
     "metadata": {},
     "output_type": "execute_result"
    }
   ],
   "source": [
    "# method to determine if gameboard is full\n",
    "\n",
    "class TicTacToe:\n",
    "    def __init__(self):\n",
    "       self.board = []\n",
    "\n",
    "    def create_board(self):\n",
    "        for i in range(9):\n",
    "            self.board.append(i + 1)\n",
    "        self.board = np.reshape(self.board, (3, 3))\n",
    "\n",
    "    def is_board_full(self):\n",
    "        for row in self.board:\n",
    "            for item in row:\n",
    "                if item not in range(1-10):\n",
    "                    return False\n",
    "        return True\n",
    "\n",
    "# test ability to recognize available spots on board\n",
    "board = TicTacToe()\n",
    "board.create_board()\n",
    "board.is_board_full()"
   ]
  },
  {
   "cell_type": "code",
   "execution_count": 88,
   "metadata": {},
   "outputs": [],
   "source": [
    "# method to enable player to choose a game mode (PvP, PvRandomAI, and PvGeniusAI)\n",
    "\n",
    "def game_mode(self, selection):\n",
    "    while selection != 1 and selection !=2 and selection !=3:\n",
    "        selection = int(input(\"Please enter 1, 2, or 3 to select your : \"))\n",
    "        match selection:\n",
    "            case 1: \n",
    "                print(\"Game Mode: Player vs Player!\")\n",
    "                break\n",
    "            case 2:\n",
    "                print(\"Game Mode: Player vs Random AI!\")\n",
    "                break\n",
    "            case 3:\n",
    "                print(\"Game Mode: Player vs Genius AI!\")\n",
    "                break"
   ]
  }
 ],
 "metadata": {
  "interpreter": {
   "hash": "e29222f3f42e0213662c0bfcd36abfcec82c8ee47d735e7e8c247aae9a20a8c0"
  },
  "kernelspec": {
   "display_name": "Python 3.10.4 64-bit (windows store)",
   "language": "python",
   "name": "python3"
  },
  "language_info": {
   "codemirror_mode": {
    "name": "ipython",
    "version": 3
   },
   "file_extension": ".py",
   "mimetype": "text/x-python",
   "name": "python",
   "nbconvert_exporter": "python",
   "pygments_lexer": "ipython3",
   "version": "3.10.4"
  },
  "orig_nbformat": 4
 },
 "nbformat": 4,
 "nbformat_minor": 2
}
