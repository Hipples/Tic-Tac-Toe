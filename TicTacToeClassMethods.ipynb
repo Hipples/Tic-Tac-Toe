{
 "cells": [
  {
   "cell_type": "code",
   "execution_count": 1,
   "metadata": {},
   "outputs": [],
   "source": [
    "# import necessary libaries\n",
    "\n",
    "import random\n",
    "import numpy as np"
   ]
  },
  {
   "cell_type": "code",
   "execution_count": 2,
   "metadata": {},
   "outputs": [],
   "source": [
    "# create the Tic Tac Toe gameboard\n",
    "\n",
    "def create_board(self):\n",
    "    gameboard = []\n",
    "    for i in range(9):\n",
    "        gameboard.append(i + 1)\n",
    "    self.board = np.reshape(gameboard, (3, 3))"
   ]
  },
  {
   "cell_type": "code",
   "execution_count": 57,
   "metadata": {},
   "outputs": [
    {
     "name": "stdout",
     "output_type": "stream",
     "text": [
      "-------------------------------\n",
      "|         |         |         | \n",
      "|    1    |    2    |    3    |\n",
      "|         |         |         |\n",
      "-------------------------------\n",
      "|         |         |         | \n",
      "|    4    |    5    |    6    |\n",
      "|         |         |         |\n",
      "-------------------------------\n",
      "|         |         |         | \n",
      "|    7    |    8    |    9    |\n",
      "|         |         |         |\n",
      "-------------------------------\n"
     ]
    }
   ],
   "source": [
    "# display the gameboard\n",
    "\n",
    "class TicTacToe:\n",
    "    def __init__(self):\n",
    "        self.board = []\n",
    "\n",
    "    def create_board(self):\n",
    "        for i in range(9):\n",
    "            self.board.append(i + 1)\n",
    "        self.board = np.reshape(self.board, (3, 3))\n",
    "\n",
    "    def display_board(self):\n",
    "        print('-------------------------------')\n",
    "        for row in self.board:\n",
    "            print('|         |         |         | ')\n",
    "            print('|', end = '')\n",
    "            for item in row:\n",
    "                print(f'    {item}    |', end = '')\n",
    "            print()\n",
    "            print('|         |         |         |')\n",
    "            print('-------------------------------')\n",
    "\n",
    "# test gameboard display\n",
    "game = TicTacToe()\n",
    "game.create_board()\n",
    "game.display_board()"
   ]
  },
  {
   "cell_type": "code",
   "execution_count": 59,
   "metadata": {},
   "outputs": [
    {
     "name": "stdout",
     "output_type": "stream",
     "text": [
      "O X\n"
     ]
    }
   ],
   "source": [
    "class TicTacToe:\n",
    "    def __init__(self):\n",
    "       self.board = []\n",
    "\n",
    "# let players choose their marker (X or O)\n",
    "    def choose_player_marker(self):\n",
    "        marker = ' '\n",
    "        while (marker != 'X' and marker != 'O'):\n",
    "            marker = input(\"Do you want to be Xs or Os? \").upper()\n",
    "\n",
    "        if marker == 'X':\n",
    "            return ['X', 'O']\n",
    "        else:\n",
    "            return ['O', 'X']\n",
    "\n",
    "    def assign_PvP_markers(self):\n",
    "        player_1, player_2 = self.choose_player_marker()\n",
    "        return player_1, player_2\n",
    "\n",
    "    def assign_PvE_markers(self):\n",
    "        player, computer = self.choose_player_marker()\n",
    "        return player, computer\n",
    "\n",
    "# test ability to choose player marker\n",
    "choose_marker = TicTacToe()\n",
    "player_1, player_2 = choose_marker.assign_PvP_markers()\n",
    "print(player_1, player_2)"
   ]
  },
  {
   "cell_type": "code",
   "execution_count": 3,
   "metadata": {},
   "outputs": [],
   "source": [
    "# choose whether to play PvP or PvRandom or PvGenius\n",
    "# need to revisit later\n",
    "\n",
    "def game_mode(self, selection):\n",
    "    while True:\n",
    "        if selection > 0 and selection < 4:\n",
    "            match selection:\n",
    "                case 1: \n",
    "                    print(\"Game Mode: Player vs Player!\")\n",
    "                    break\n",
    "                case 2:\n",
    "                    print(\"Game Mode: Player vs Random AI!\")\n",
    "                    break\n",
    "                case 3:\n",
    "                    print(\"Game Mode: Player vs Genius AI!\")\n",
    "                    break\n",
    "        else:\n",
    "            prompt = \"Please enter 1 2 or 3 to select a gamemode option: \"\n",
    "            selection = int(input(prompt))\n",
    "            continue"
   ]
  },
  {
   "cell_type": "code",
   "execution_count": null,
   "metadata": {},
   "outputs": [],
   "source": []
  }
 ],
 "metadata": {
  "interpreter": {
   "hash": "e29222f3f42e0213662c0bfcd36abfcec82c8ee47d735e7e8c247aae9a20a8c0"
  },
  "kernelspec": {
   "display_name": "Python 3.10.4 64-bit (windows store)",
   "language": "python",
   "name": "python3"
  },
  "language_info": {
   "codemirror_mode": {
    "name": "ipython",
    "version": 3
   },
   "file_extension": ".py",
   "mimetype": "text/x-python",
   "name": "python",
   "nbconvert_exporter": "python",
   "pygments_lexer": "ipython3",
   "version": "3.10.4"
  },
  "orig_nbformat": 4
 },
 "nbformat": 4,
 "nbformat_minor": 2
}
